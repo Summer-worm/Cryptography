{
 "cells": [
  {
   "cell_type": "code",
   "execution_count": 1,
   "metadata": {
    "cocalc": {
     "outputs": {
      "0": {
       "name": "input",
       "opts": {
        "password": false,
        "prompt": "please enter a integer"
       },
       "output_type": "stream"
      }
     }
    },
    "collapsed": false,
    "scrolled": true
   },
   "outputs": [
    {
     "name": "stdout",
     "output_type": "stream",
     "text": [
      "1\n",
      "25\n",
      "5\n"
     ]
    }
   ],
   "source": [
    "def allDivisors(a):\n",
    "    #in this way, we can get the sqrt(n) steps\n",
    "    i=1\n",
    "    while i<=a/i:\n",
    "        if a%i==0:\n",
    "            if i<a/i:\n",
    "                print(i)\n",
    "                print(int(a/i))\n",
    "            else:\n",
    "                print(i)\n",
    "            i=i+1\n",
    "        else:\n",
    "            i=i+1\n",
    "# use numbers to try\n",
    "allDivisors(25)"
   ]
  },
  {
   "cell_type": "code",
   "execution_count": 10,
   "metadata": {
    "collapsed": false,
    "scrolled": true
   },
   "outputs": [
    {
     "name": "stdout",
     "output_type": "stream",
     "text": [
      "[1, 5]\n"
     ]
    }
   ],
   "source": [
    "def commonDivisors(a,b):\n",
    "    list=[]\n",
    "    i=1\n",
    "    while i<=a and i<=b:\n",
    "        if a%i==0 and b%i==0:\n",
    "            list.append(i)\n",
    "            i=i+1\n",
    "        else:\n",
    "            i=i+1\n",
    "    print(list)\n",
    "# use numbers to try\n",
    "commonDivisors(15,25)"
   ]
  },
  {
   "cell_type": "code",
   "execution_count": 13,
   "metadata": {
    "collapsed": false
   },
   "outputs": [
    {
     "name": "stdout",
     "output_type": "stream",
     "text": [
      "18\n"
     ]
    }
   ],
   "source": [
    "def slowGCD(a,b):\n",
    "    list=[]\n",
    "    i=1\n",
    "    while i<=a and i<=b:\n",
    "        if a%i==0 and b%i==0:\n",
    "            list.append(i)\n",
    "            i=i+1\n",
    "        else:\n",
    "            i=i+1\n",
    "    print(max(list))\n",
    "# use numbers to try\n",
    "slowGCD(36,54)"
   ]
  },
  {
   "cell_type": "code",
   "execution_count": 16,
   "metadata": {
    "collapsed": false
   },
   "outputs": [
    {
     "name": "stdout",
     "output_type": "stream",
     "text": [
      "48\n"
     ]
    }
   ],
   "source": [
    "def fastGCD(a,b):\n",
    "    #Euclidean algorithm\n",
    "    c=max(a,b)\n",
    "    d=min(a,b)\n",
    "    a=c\n",
    "    b=d\n",
    "    while a%b!=0:\n",
    "        r1=a%b\n",
    "        a=b\n",
    "        b=r1\n",
    "    print(b)\n",
    "# use numbers to try\n",
    "fastGCD(96,144)"
   ]
  },
  {
   "cell_type": "code",
   "execution_count": 1,
   "metadata": {
    "collapsed": false
   },
   "outputs": [
    {
     "name": "stdout",
     "output_type": "stream",
     "text": [
      "[2, 14, -11]\n"
     ]
    }
   ],
   "source": [
    "def extendedGCD(a,b):\n",
    "    list2=[]\n",
    "    # sort the number, make it easy to solve\n",
    "    c=max(a,b)\n",
    "    d=min(a,b)\n",
    "    s0=1\n",
    "    s1=0\n",
    "    t0=0\n",
    "    t1=1\n",
    "    while c%d!=0:\n",
    "        r1=c%d\n",
    "        q=c//d\n",
    "        s2=s0-(q*s1)\n",
    "        s0=s1\n",
    "        s1=s2\n",
    "        t2=t0-(q*t1)\n",
    "        t0=t1\n",
    "        t1=t2\n",
    "        c=d\n",
    "        d=r1\n",
    "    #the sort will be different if a is not equal to c\n",
    "    if a==c:\n",
    "        list2=[d,s1,t1]\n",
    "    else:\n",
    "        list2=[d,t1,s1]\n",
    "    print(list2)\n",
    "# use numbers to try\n",
    "extendedGCD(74,94)"
   ]
  },
  {
   "cell_type": "code",
   "execution_count": 12,
   "metadata": {
    "collapsed": false
   },
   "outputs": [
    {
     "name": "stdout",
     "output_type": "stream",
     "text": [
      "1139\n"
     ]
    }
   ],
   "source": [
    "def multInverse(a,p):\n",
    "    # use p0 to save the ordinary prime\n",
    "    p0=p\n",
    "    b=a%p\n",
    "    list3=[]\n",
    "    s0=1\n",
    "    s1=0\n",
    "    t0=0\n",
    "    t1=1\n",
    "    while p%b!=0:\n",
    "        r1=p%b\n",
    "        q=p//b\n",
    "        s2=s0-(q*s1)\n",
    "        s0=s1\n",
    "        s1=s2\n",
    "        t2=t0-(q*t1)\n",
    "        t0=t1\n",
    "        t1=t2\n",
    "        p=b\n",
    "        b=r1\n",
    "        list3=[b,s1,t1]\n",
    "    # the value of a*t1 modulo p is -1, so we need to add ordinary p0\n",
    "    print(p0+t1)\n",
    "multInverse(1066,2027)"
   ]
  },
  {
   "cell_type": "code",
   "execution_count": 2,
   "metadata": {
    "collapsed": false
   },
   "outputs": [
    {
     "name": "stdout",
     "output_type": "stream",
     "text": [
      "[2, 14, -11]\n",
      "3\n",
      "3\n",
      "[3, -74, 57]\n",
      "1\n",
      "1\n",
      "[1, -182724, 38765]\n",
      "45471\n",
      "[45471, -7649084898210516198, 962007005704810627]\n",
      "17\n",
      "[17, -6312923244784757584553410968430, 4502864976372338824392245992081]\n"
     ]
    }
   ],
   "source": [
    "def slowGCD(a,b):\n",
    "    list=[]\n",
    "    i=1\n",
    "    while i<=a and i<=b:\n",
    "        if a%i==0 and b%i==0:\n",
    "            list.append(i)\n",
    "            i=i+1\n",
    "        else:\n",
    "            i=i+1\n",
    "    print(max(list))\n",
    "    \n",
    "def fastGCD(a,b):\n",
    "    c=max(a,b)\n",
    "    d=min(a,b)\n",
    "    a=c\n",
    "    b=d\n",
    "    while a%b!=0:\n",
    "        r1=a%b\n",
    "        a=b\n",
    "        b=r1\n",
    "    print(b)\n",
    "    \n",
    "def extendedGCD(a,b):\n",
    "    list2=[]\n",
    "    c=max(a,b)\n",
    "    d=min(a,b)\n",
    "    s0=1\n",
    "    s1=0\n",
    "    t0=0\n",
    "    t1=1\n",
    "    while c%d!=0:\n",
    "        r1=c%d\n",
    "        q=c//d\n",
    "        s2=s0-(q*s1)\n",
    "        s0=s1\n",
    "        s1=s2\n",
    "        t2=t0-(q*t1)\n",
    "        t0=t1\n",
    "        t1=t2\n",
    "        c=d\n",
    "        d=r1\n",
    "    if a==c:\n",
    "        list2=[d,s1,t1]\n",
    "    else:\n",
    "        list2=[d,t1,s1]\n",
    "    print(list2)\n",
    "extendedGCD(74,94)\n",
    "slowGCD(543,705)\n",
    "fastGCD(543,705)\n",
    "extendedGCD(543,705)\n",
    "\n",
    "slowGCD(173676, 818645)\n",
    "fastGCD(173676, 818645)\n",
    "extendedGCD(173676, 818645)\n",
    "\n",
    "#slowGCD can not work out\n",
    "fastGCD(98748791589859238764602, 785168804371787933116521)\n",
    "extendedGCD(98748791589859238764602, 785168804371787933116521)\n",
    "\n",
    "#slowGCD can not work out\n",
    "fastGCD(3107289384021020334845112174217281, 4356355227969236398381420990623887)\n",
    "extendedGCD(3107289384021020334845112174217281, 4356355227969236398381420990623887)"
   ]
  },
  {
   "cell_type": "code",
   "execution_count": 13,
   "metadata": {
    "collapsed": false
   },
   "outputs": [
    {
     "name": "stdout",
     "output_type": "stream",
     "text": [
      "38\n",
      "1139\n",
      "180438387583137669227182765\n"
     ]
    }
   ],
   "source": [
    "def multInverse(a,p):\n",
    "    # use p0 to save the ordinary prime\n",
    "    p0=p\n",
    "    b=a%p\n",
    "    list3=[]\n",
    "    s0=1\n",
    "    s1=0\n",
    "    t0=0\n",
    "    t1=1\n",
    "    while p%b!=0:\n",
    "        r1=p%b\n",
    "        q=p//b\n",
    "        s2=s0-(q*s1)\n",
    "        s0=s1\n",
    "        s1=s2\n",
    "        t2=t0-(q*t1)\n",
    "        t0=t1\n",
    "        t1=t2\n",
    "        p=b\n",
    "        b=r1\n",
    "        list3=[b,s1,t1]\n",
    "    # the value of a*t1 modulo p is -1, so we need to add ordinary p0\n",
    "    print(p0+t1)\n",
    "multInverse(7,53)\n",
    "multInverse(1066,2027)\n",
    "multInverse(72161726471264212144,217264871624871628472652659)"
   ]
  },
  {
   "cell_type": "code",
   "execution_count": 0,
   "metadata": {
    "collapsed": false
   },
   "outputs": [
   ],
   "source": [
   ]
  }
 ],
 "metadata": {
  "kernelspec": {
   "display_name": "Python 3 (system-wide)",
   "language": "python",
   "metadata": {
    "cocalc": {
     "description": "Python 3 programming language",
     "priority": 100,
     "url": "https://www.python.org/"
    }
   },
   "name": "python3",
   "resource_dir": "/ext/jupyter/kernels/python3"
  },
  "language_info": {
   "codemirror_mode": {
    "name": "ipython",
    "version": 3
   },
   "file_extension": ".py",
   "mimetype": "text/x-python",
   "name": "python",
   "nbconvert_exporter": "python",
   "pygments_lexer": "ipython3",
   "version": "3.8.10"
  }
 },
 "nbformat": 4,
 "nbformat_minor": 4
}