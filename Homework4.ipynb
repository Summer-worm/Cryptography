{
 "cells": [
  {
   "cell_type": "code",
   "execution_count": 19,
   "metadata": {
    "collapsed": false
   },
   "outputs": [
    {
     "name": "stdout",
     "output_type": "stream",
     "text": [
      "19753295643721\n"
     ]
    },
    {
     "data": {
      "text/plain": [
       "'My PW:3Ab&c8'"
      ]
     },
     "execution_count": 19,
     "metadata": {
     },
     "output_type": "execute_result"
    }
   ],
   "source": [
    "p = 2023306774316798283884543108953\n",
    "g = 15933608878580910051027282678\n",
    "A = 507161866845660423833984216685\n",
    "C = [62253865849879932462212496812, 624465978997833286127272847821]\n",
    "#Problem 1\n",
    "\n",
    "# This is the function fastPower from HW2\n",
    "import cmath\n",
    "\n",
    "def fast2Power(a,n,m): #Compute the power of a^n modulo m and without first␣finding the binary expansion\n",
    "    res=1\n",
    "    while n>0:\n",
    "        if n%2==1: #If the bit is 1 multiply by the corresponding square\n",
    "            res=(res*a)%m\n",
    "        a=(a*a)%m\n",
    "        n=n//2\n",
    "    return res\n",
    "\n",
    "def multInverse(a,p):\n",
    "    # use p0 to save the ordinary prime\n",
    "    p0=p\n",
    "    b=a%p\n",
    "    list3=[]\n",
    "    s0=1\n",
    "    s1=0\n",
    "    t0=0\n",
    "    t1=1\n",
    "    while p%b!=0:\n",
    "        r1=p%b\n",
    "        q=p//b\n",
    "        s2=s0-(q*s1)\n",
    "        s0=s1\n",
    "        s1=s2\n",
    "        t2=t0-(q*t1)\n",
    "        t0=t1\n",
    "        t1=t2\n",
    "        p=b\n",
    "        b=r1\n",
    "        list3=[b,s1,t1]\n",
    "    # the value of a*t1 modulo p is -1, so we need to add ordinary p0\n",
    "    answer=(p0+t1)%p0\n",
    "    return answer\n",
    "\n",
    "def getExpansion(n,m):\n",
    "    listOfDigits=[]\n",
    "    while n>=m:\n",
    "        digit=n%m\n",
    "        listOfDigits.append(digit)\n",
    "        n=(n-digit)//m\n",
    "    listOfDigits.append(n)\n",
    "    return listOfDigits\n",
    "\n",
    "def intToText(n):\n",
    "    t=getExpansion(n,256)\n",
    "    myString=''\n",
    "    for i in t:\n",
    "        myString=myString+chr(i)\n",
    "    return myString\n",
    "\n",
    "def babyGiant(g,h,p,N=-1):\n",
    "    if N==-1: #If we do not know the order we use N=p-1\n",
    "        N=p-1\n",
    "    n=int(pow(N,0.5))+1\n",
    "    gb=1\n",
    "    i=0\n",
    "    babyStepTable={gb:i}\n",
    "    while i<n-1:\n",
    "        gb=(gb*g)%p\n",
    "        i=i+1\n",
    "        babyStepTable[gb]=i #Add a new element to the table\n",
    "    G=fast2Power(multInverse(g,p),n,p)\n",
    "    y=h\n",
    "    if y in babyStepTable:\n",
    "        return babyStepTable[y]\n",
    "    for j in range(1,n):\n",
    "        y=(y*G)%p\n",
    "        if y in babyStepTable:\n",
    "            return j*n+babyStepTable[y]\n",
    "\n",
    "def CRT(remainderList,modulusList):\n",
    "    M=1\n",
    "    l=0\n",
    "    for m in modulusList: #Computes the product of the moduli\n",
    "        M=M*m\n",
    "        l=l+1\n",
    "    if l!= len(remainderList):\n",
    "        print(\"Length of lists must be be the same\")\n",
    "        return None\n",
    "    x=0\n",
    "    for i in range(0,l):\n",
    "        m=modulusList[i]\n",
    "        Mi=M//m\n",
    "        yi=multInverse(Mi,m)\n",
    "        x=(x+remainderList[i]*Mi*yi)%M\n",
    "    return x\n",
    "\n",
    "def pohligHellman(g,h,p,orderFactors):\n",
    "    N=1\n",
    "    for ni in orderFactors:\n",
    "        N=N*ni\n",
    "    localSolutions=[]\n",
    "    for ni in orderFactors:\n",
    "        #print(ni)\n",
    "        Ni=N//ni\n",
    "        gi=fast2Power(g,Ni,p)\n",
    "        hi=fast2Power(h,Ni,p)\n",
    "        y=babyGiant(gi,hi,p,ni)\n",
    "        #print(y)\n",
    "        localSolutions.append(y)\n",
    "    x=CRT(localSolutions,orderFactors)\n",
    "    return x\n",
    "\n",
    "p = 2023306774316798283884543108953\n",
    "g = 15933608878580910051027282678\n",
    "A = 507161866845660423833984216685\n",
    "C = [62253865849879932462212496812, 624465978997833286127272847821]\n",
    "orderFactors=[3,8,607,4177,28493,74587,606131,25812467]\n",
    "a=pohligHellman(g,A,p,orderFactors)\n",
    "print(a)\n",
    "#a is the private key\n",
    "\n",
    "def elgamalDecrypt(p,g,a,C):\n",
    "    c1=C[0]\n",
    "    c2=C[1]\n",
    "    power_c1=fast2Power(c1,a,p)\n",
    "    inv_power_c1=multInverse(power_c1,p)\n",
    "    m=(inv_power_c1*c2)%p\n",
    "    return m\n",
    "\n",
    "elgamalDecrypt(p,g,a,C)\n",
    "#m=17451025468542603389896259917\n",
    "m=17451025468542603389896259917\n",
    "intToText(m)\n",
    "\n",
    "\n"
   ]
  },
  {
   "cell_type": "code",
   "execution_count": 36,
   "metadata": {
    "collapsed": false
   },
   "outputs": [
   ],
   "source": [
    "#Problem 2 (a)\n",
    "def fastGCD(a,b):\n",
    "    #Euclidean algorithm\n",
    "    c=max(a,b)\n",
    "    d=min(a,b)\n",
    "    a=c\n",
    "    b=d\n",
    "    while a%b!=0:\n",
    "        r1=a%b\n",
    "        a=b\n",
    "        b=r1\n",
    "    return b\n",
    "\n",
    "def millerRabinWitnessQ(a,n):\n",
    "    #First we need to check relativity\n",
    "    if fastGCD(a,n)==1:\n",
    "        n0=n-1\n",
    "        i=0 #i is the power of 2\n",
    "        while n0%2==0:\n",
    "            n0=n0//2\n",
    "            i=i+1\n",
    "        #we get n=n0*2^i\n",
    "        if fast2Power(a,n-1,n)!=1:\n",
    "            i0=0\n",
    "            list=[]\n",
    "            while i0 < i:\n",
    "                t=pow(2,i0)\n",
    "                k=fast2Power(a,n0*t,n)\n",
    "                list.append(k)\n",
    "                i0=i0+1\n",
    "                if k==-1:\n",
    "                    return \"False\"\n",
    "                else:\n",
    "                    continue\n",
    "            return \"True\"\n",
    "        else:\n",
    "            return \"False\"\n",
    "    else:\n",
    "        return \"gcd(a,n)!=1\""
   ]
  },
  {
   "cell_type": "code",
   "execution_count": 37,
   "metadata": {
    "collapsed": false
   },
   "outputs": [
    {
     "data": {
      "text/plain": [
       "'probableprime'"
      ]
     },
     "execution_count": 37,
     "metadata": {
     },
     "output_type": "execute_result"
    }
   ],
   "source": [
    "#Problem 2 (b)\n",
    "import random\n",
    "def probablePrimeQ(p):\n",
    "    index=random.sample(range(2,p-1),20)\n",
    "    i=0\n",
    "    while i < 20:\n",
    "        a=index[i]\n",
    "        answer=millerRabinWitnessQ(a,p)\n",
    "        if answer==\"True\":\n",
    "            return \"composite\"\n",
    "            break\n",
    "        else:\n",
    "            i=i+1\n",
    "            continue\n",
    "    return \"probableprime\"\n",
    "#example\n",
    "probablePrimeQ(101)"
   ]
  },
  {
   "cell_type": "code",
   "execution_count": 38,
   "metadata": {
    "collapsed": false
   },
   "outputs": [
   ],
   "source": [
    "#Problem 2 (c)\n",
    "import random\n",
    "def probablePrimeQ(p):\n",
    "    index=random.sample(range(2,100),20)\n",
    "    # we need to change the number of sample, otherwise the program will not go on\n",
    "    i=0\n",
    "    while i < 20:\n",
    "        a=index[i]\n",
    "        answer=millerRabinWitnessQ(a,p)\n",
    "        if answer==\"True\":\n",
    "            return \"composite\"\n",
    "            break\n",
    "        else:\n",
    "            i=i+1\n",
    "            continue\n",
    "    return \"probableprime\"\n",
    "\n",
    "def findPrime(lBound,uBound):\n",
    "    i=lBound\n",
    "    list=[]\n",
    "    while i < uBound:\n",
    "        a=probablePrimeQ(i)\n",
    "        if a==\"probableprime\":\n",
    "            list.append(i)\n",
    "        i=i+1\n",
    "    return list"
   ]
  },
  {
   "cell_type": "markdown",
   "metadata": {
    "collapsed": false
   },
   "source": [
    "```\n",
    "\n",
    "```\n",
    "\n"
   ]
  },
  {
   "cell_type": "code",
   "execution_count": 39,
   "metadata": {
    "collapsed": false,
    "scrolled": true
   },
   "outputs": [
    {
     "data": {
      "text/plain": [
       "[170141183460469231731687303715884105757,\n",
       " 170141183460469231731687303715884105773,\n",
       " 170141183460469231731687303715884105793,\n",
       " 170141183460469231731687303715884105829,\n",
       " 170141183460469231731687303715884105851,\n",
       " 170141183460469231731687303715884105979,\n",
       " 170141183460469231731687303715884106001,\n",
       " 170141183460469231731687303715884106031,\n",
       " 170141183460469231731687303715884106123,\n",
       " 170141183460469231731687303715884106207,\n",
       " 170141183460469231731687303715884106213,\n",
       " 170141183460469231731687303715884106231,\n",
       " 170141183460469231731687303715884106273,\n",
       " 170141183460469231731687303715884106303,\n",
       " 170141183460469231731687303715884106309,\n",
       " 170141183460469231731687303715884106319,\n",
       " 170141183460469231731687303715884106409,\n",
       " 170141183460469231731687303715884106439,\n",
       " 170141183460469231731687303715884106721,\n",
       " 170141183460469231731687303715884106723,\n",
       " 170141183460469231731687303715884106787,\n",
       " 170141183460469231731687303715884107009,\n",
       " 170141183460469231731687303715884107029,\n",
       " 170141183460469231731687303715884107149,\n",
       " 170141183460469231731687303715884107237,\n",
       " 170141183460469231731687303715884107339,\n",
       " 170141183460469231731687303715884107467,\n",
       " 170141183460469231731687303715884107477,\n",
       " 170141183460469231731687303715884107579,\n",
       " 170141183460469231731687303715884107587,\n",
       " 170141183460469231731687303715884107621,\n",
       " 170141183460469231731687303715884107639,\n",
       " 170141183460469231731687303715884107717,\n",
       " 170141183460469231731687303715884107923,\n",
       " 170141183460469231731687303715884108073,\n",
       " 170141183460469231731687303715884108077,\n",
       " 170141183460469231731687303715884108227,\n",
       " 170141183460469231731687303715884108277,\n",
       " 170141183460469231731687303715884108419,\n",
       " 170141183460469231731687303715884108527,\n",
       " 170141183460469231731687303715884108553,\n",
       " 170141183460469231731687303715884108739,\n",
       " 170141183460469231731687303715884108763,\n",
       " 170141183460469231731687303715884108829,\n",
       " 170141183460469231731687303715884108853,\n",
       " 170141183460469231731687303715884108943,\n",
       " 170141183460469231731687303715884109081,\n",
       " 170141183460469231731687303715884109141,\n",
       " 170141183460469231731687303715884109379,\n",
       " 170141183460469231731687303715884109397,\n",
       " 170141183460469231731687303715884109447,\n",
       " 170141183460469231731687303715884109631,\n",
       " 170141183460469231731687303715884109787,\n",
       " 170141183460469231731687303715884109841,\n",
       " 170141183460469231731687303715884109943,\n",
       " 170141183460469231731687303715884110089,\n",
       " 170141183460469231731687303715884110369,\n",
       " 170141183460469231731687303715884110519,\n",
       " 170141183460469231731687303715884110599,\n",
       " 170141183460469231731687303715884110611,\n",
       " 170141183460469231731687303715884110729,\n",
       " 170141183460469231731687303715884110831,\n",
       " 170141183460469231731687303715884110867,\n",
       " 170141183460469231731687303715884111121,\n",
       " 170141183460469231731687303715884111209,\n",
       " 170141183460469231731687303715884111283,\n",
       " 170141183460469231731687303715884111371,\n",
       " 170141183460469231731687303715884111383,\n",
       " 170141183460469231731687303715884111413,\n",
       " 170141183460469231731687303715884111547,\n",
       " 170141183460469231731687303715884111923,\n",
       " 170141183460469231731687303715884111953,\n",
       " 170141183460469231731687303715884112097,\n",
       " 170141183460469231731687303715884112237,\n",
       " 170141183460469231731687303715884112393,\n",
       " 170141183460469231731687303715884112499,\n",
       " 170141183460469231731687303715884112591,\n",
       " 170141183460469231731687303715884112619,\n",
       " 170141183460469231731687303715884112709,\n",
       " 170141183460469231731687303715884112759,\n",
       " 170141183460469231731687303715884112963,\n",
       " 170141183460469231731687303715884113189,\n",
       " 170141183460469231731687303715884113249,\n",
       " 170141183460469231731687303715884113261,\n",
       " 170141183460469231731687303715884113341,\n",
       " 170141183460469231731687303715884113453,\n",
       " 170141183460469231731687303715884113563,\n",
       " 170141183460469231731687303715884113593,\n",
       " 170141183460469231731687303715884113633,\n",
       " 170141183460469231731687303715884113669,\n",
       " 170141183460469231731687303715884113693,\n",
       " 170141183460469231731687303715884113718,\n",
       " 170141183460469231731687303715884113723,\n",
       " 170141183460469231731687303715884113747,\n",
       " 170141183460469231731687303715884113749,\n",
       " 170141183460469231731687303715884113779,\n",
       " 170141183460469231731687303715884113891,\n",
       " 170141183460469231731687303715884113893,\n",
       " 170141183460469231731687303715884113911,\n",
       " 170141183460469231731687303715884114137,\n",
       " 170141183460469231731687303715884114527,\n",
       " 170141183460469231731687303715884114601,\n",
       " 170141183460469231731687303715884114761,\n",
       " 170141183460469231731687303715884114787,\n",
       " 170141183460469231731687303715884115033,\n",
       " 170141183460469231731687303715884115061,\n",
       " 170141183460469231731687303715884115223,\n",
       " 170141183460469231731687303715884115333,\n",
       " 170141183460469231731687303715884115417,\n",
       " 170141183460469231731687303715884115453,\n",
       " 170141183460469231731687303715884115637,\n",
       " 170141183460469231731687303715884115679,\n",
       " 170141183460469231731687303715884115711]"
      ]
     },
     "execution_count": 39,
     "metadata": {
     },
     "output_type": "execute_result"
    }
   ],
   "source": [
    "#Problem 2 (d)\n",
    "a=pow(2,127)\n",
    "findPrime(a,a+10000)"
   ]
  },
  {
   "cell_type": "code",
   "execution_count": 31,
   "metadata": {
    "collapsed": false
   },
   "outputs": [
   ],
   "source": [
    "#problem 3 (a)\n",
    "\n",
    "def generateRSA(b):\n",
    "    lBound=pow(10,b-1)\n",
    "    uBound=int(1.5*pow(10,b))\n",
    "    list2=findPrime(lBound,uBound)\n",
    "    #choosing the first two numbers\n",
    "    p=list2[0]\n",
    "    q=list2[1]\n",
    "    #We choose the first and the second primes\n",
    "    N=p*q\n",
    "    euler_N=(p-1)*(q-1)\n",
    "    e=p-3\n",
    "    #when b is big enough, e is relatively prime to N\n",
    "    multInverse(e,euler_N)"
   ]
  },
  {
   "cell_type": "code",
   "execution_count": 32,
   "metadata": {
    "collapsed": false
   },
   "outputs": [
   ],
   "source": [
    "#Problem 3 (b)\n",
    "def rsaEncrypt(N,e,m):\n",
    "    c=fast2Power(m,e,N)\n",
    "    return c\n",
    "    \n",
    "def rsaDecrypt(p,q,e,c):\n",
    "    N=p*q\n",
    "    euler_N=(p-1)*(q-1)\n",
    "    d=multInverse(e,euler_N)\n",
    "    m=fast2Power(c,d,N)\n",
    "    return m"
   ]
  },
  {
   "cell_type": "code",
   "execution_count": 33,
   "metadata": {
    "collapsed": false
   },
   "outputs": [
    {
     "name": "stdout",
     "output_type": "stream",
     "text": [
      "1638694730567740053889115184216201730559302316449385676800000\n",
      "1103823438080\n"
     ]
    }
   ],
   "source": [
    "#Problem 3 (c)\n",
    "\n",
    "p=340282366920938463463374607431768211297\n",
    "q=340282366920938463463374607431768211283\n",
    "#These two numbers must be prime numbers,I checked them in prime number list\n",
    "N=p*q\n",
    "#we choose the \"brown\" in HW3,the encoded number is 1103823438080\n",
    "m=1103823438080\n",
    "#In observation,we decide choose 5 as e\n",
    "e=5\n",
    "\n",
    "c=rsaEncrypt(N,e,m)\n",
    "print(c)\n",
    "#c is 1638694730567740053889115184216201730559302316449385676800000\n",
    "codeplaintext=rsaDecrypt(p,q,e,c)\n",
    "print(codeplaintext)\n",
    "#The codeplaintext we get is the same as m,so we can recover it!"
   ]
  },
  {
   "cell_type": "code",
   "execution_count": 33,
   "metadata": {
    "collapsed": false,
    "scrolled": true
   },
   "outputs": [
    {
     "data": {
      "text/plain": [
       "'Lat:37.8735 Long:-122.2579'"
      ]
     },
     "execution_count": 33,
     "metadata": {
     },
     "output_type": "execute_result"
    }
   ],
   "source": [
    "#Problem 3 (d)\n",
    "N = 57827237212537328721403414859701117256950147043657179682429675635414974092267\n",
    "p = 197392385385765730323593372879610033749\n",
    "q = 292955764729855380124638330592302833983\n",
    "e = 30976423168144014209716624790587982344466107184812898368404437795227984190221\n",
    "d = 25506717026652416005253828955620679434349390414876094959093739255385916016069\n",
    "c= 13076072551716188560404573588576472297664291296214922224842440908033135406923\n",
    "rsaDecrypt(p,q,e,c)\n",
    "#codeplaintext is 91942013480759937536847618488593920317038516918091961899180364\n",
    "codeplaintext=91942013480759937536847618488593920317038516918091961899180364\n",
    "intToText(codeplaintext)"
   ]
  },
  {
   "cell_type": "code",
   "execution_count": 0,
   "metadata": {
    "collapsed": false
   },
   "outputs": [
   ],
   "source": [
   ]
  },
  {
   "cell_type": "code",
   "execution_count": 3,
   "metadata": {
    "collapsed": false
   },
   "outputs": [
   ],
   "source": [
    "#Problem 4 (a)\n",
    "def findSafePrime(lBound,uBound):\n",
    "    q=lBound\n",
    "    list=[]\n",
    "    while q < uBound+1:\n",
    "        if probablePrimeQ(p):\n",
    "            p=2*q+1\n",
    "            if probablePrimeQ(q):\n",
    "                list.append(q)\n",
    "        q=q+1\n",
    "    return list"
   ]
  },
  {
   "cell_type": "code",
   "execution_count": 0,
   "metadata": {
    "collapsed": false
   },
   "outputs": [
   ],
   "source": [
    "#Problem 4 (b)\n",
    "lBound=pow(2,126)\n",
    "uBound=lBound+100000\n",
    "#The reason for choosing 100000 is that I tried many times.\n",
    "safeprime=findSafePrime(lBound,uBound)\n",
    "p=2*safeprime[0]+1\n",
    "#we choose p=318442357373008015667752807648427844443,q=159221178686504007833876403824213922221"
   ]
  },
  {
   "cell_type": "code",
   "execution_count": 28,
   "metadata": {
    "collapsed": false
   },
   "outputs": [
    {
     "name": "stdout",
     "output_type": "stream",
     "text": [
      "2\n",
      "318442357373008015667752807648427844441\n"
     ]
    },
    {
     "data": {
      "text/plain": [
       "1"
      ]
     },
     "execution_count": 28,
     "metadata": {
     },
     "output_type": "execute_result"
    }
   ],
   "source": [
    "#Problem 4 (c)\n",
    "i=2\n",
    "p=318442357373008015667752807648427844443\n",
    "q=159221178686504007833876403824213922221\n",
    "while i < 10:\n",
    "    if fast2Power(i,2,p)==1 or fast2Power(i,q,p)==1:\n",
    "        i=i+1\n",
    "    else:\n",
    "        print(i)\n",
    "        break\n",
    "print(p-2)\n",
    "#The answer means that 2 is a primitive root\n",
    "#From the answer of the writing part in HW3,the order of p-2 is q\n",
    "fast2Power(p-2,q,p)"
   ]
  },
  {
   "cell_type": "code",
   "execution_count": 29,
   "metadata": {
    "collapsed": false
   },
   "outputs": [
   ],
   "source": [
    "#Problem 4 (d)\n",
    "def generateElgamal(bits):\n",
    "    lBound=pow(2,bits-1)\n",
    "    uBound=pow(2,bits)-1\n",
    "    findSafePrime(lBound,uBound)\n",
    "    p=list[0]\n",
    "    #For simplicity,we choose g as 5, a is (p-1)//2-2\n",
    "    g=5\n",
    "    a=(p-1)//2-2\n",
    "    A=fast2Power(g,a,p)\n",
    "    list=[p,g,a,A]\n",
    "    return list\n",
    "\n",
    "bits=input(\"please enter a int number\")"
   ]
  },
  {
   "cell_type": "code",
   "execution_count": 0,
   "metadata": {
    "collapsed": false
   },
   "outputs": [
   ],
   "source": [
   ]
  }
 ],
 "metadata": {
  "kernelspec": {
   "display_name": "Python 3 (SageMath)",
   "language": "python",
   "metadata": {
    "cocalc": {
     "description": "The Python 3 interpreter included in SageMath",
     "priority": 1,
     "url": "https://www.python.org/"
    }
   },
   "name": "python3-sage",
   "resource_dir": "/ext/jupyter/kernels/python3-sage"
  },
  "language_info": {
   "codemirror_mode": {
    "name": "ipython",
    "version": 3
   },
   "file_extension": ".py",
   "mimetype": "text/x-python",
   "name": "python",
   "nbconvert_exporter": "python",
   "pygments_lexer": "ipython3",
   "version": "3.10.3"
  }
 },
 "nbformat": 4,
 "nbformat_minor": 4
}