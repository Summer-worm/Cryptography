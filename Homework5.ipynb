{
 "cells": [
  {
   "cell_type": "code",
   "execution_count": 3,
   "metadata": {
    "collapsed": false
   },
   "outputs": [
   ],
   "source": [
    "#Problem 1\n",
    "def fastGCD(a,b):\n",
    "    #Euclidean algorithm\n",
    "    c=max(a,b)\n",
    "    d=min(a,b)\n",
    "    a=c\n",
    "    b=d\n",
    "    while a%b!=0:\n",
    "        r1=a%b\n",
    "        a=b\n",
    "        b=r1\n",
    "    return b\n",
    "    \n",
    "def fastPower(a,n,m):\n",
    "    amutiplier=1\n",
    "    list=[]\n",
    "    while n!=0:       \n",
    "        n0=n%2\n",
    "        n=int((n-n0)/2)\n",
    "        list.append(n0)\n",
    "    for x in list:\n",
    "        if x==0:\n",
    "            amodulo=a%m\n",
    "            a=(amodulo*amodulo)%m\n",
    "        else:\n",
    "            amodulo=a%m\n",
    "            a=(amodulo*amodulo)%m\n",
    "            amutiplier=(amutiplier*amodulo)%m\n",
    "    return amutiplier\n",
    "\n",
    "def factorPollard(N,a,m):\n",
    "    k=2\n",
    "    a=a%N\n",
    "    a_a=2\n",
    "    while k <= m:\n",
    "        if k==m:\n",
    "            return \"reach the upper bound m\"\n",
    "        if fastGCD(a-1,N)>1 and fastGCD(a-1,N)<N:\n",
    "            return fastGCD(a-1,N)\n",
    "        if fastGCD(a-1,N)==N:\n",
    "            a=a_a+1\n",
    "            a_a=a\n",
    "            k=1\n",
    "        a=fastPower(a,k,N)\n",
    "        k=k+1\n",
    "            "
   ]
  },
  {
   "cell_type": "code",
   "execution_count": 4,
   "metadata": {
    "collapsed": false
   },
   "outputs": [
    {
     "name": "stdout",
     "output_type": "stream",
     "text": [
      "[2654209, 2881621]\n"
     ]
    }
   ],
   "source": [
    "#Problem 2\n",
    "N = 7648424392789\n",
    "a=2\n",
    "m=1000000\n",
    "list=[factorPollard(N,a,m),N//factorPollard(N,a,m)]\n",
    "#prime factors of N are in the list\n",
    "print(list)"
   ]
  },
  {
   "cell_type": "code",
   "execution_count": 5,
   "metadata": {
    "collapsed": false
   },
   "outputs": [
    {
     "name": "stdout",
     "output_type": "stream",
     "text": [
      "[265416212712649, 288241878181281649]\n"
     ]
    }
   ],
   "source": [
    "N = 76504067652056510826705773878201\n",
    "a=2\n",
    "m=1000000\n",
    "list2=[factorPollard(N,a,m),N//factorPollard(N,a,m)]\n",
    "#prime factors of N are in the list2\n",
    "print(list2)"
   ]
  },
  {
   "cell_type": "code",
   "execution_count": 4,
   "metadata": {
    "collapsed": false
   },
   "outputs": [
   ],
   "source": [
    "#Problem 3 a\n",
    "import random\n",
    "def fastGCD(a,b):\n",
    "    #Euclidean algorithm\n",
    "    c=max(a,b)\n",
    "    d=min(a,b)\n",
    "    a=c\n",
    "    b=d\n",
    "    while a%b!=0:\n",
    "        r1=a%b\n",
    "        a=b\n",
    "        b=r1\n",
    "    return b\n",
    "\n",
    "def fast2Power(a,n,m): #Compute the power of a^n modulo m and without first␣finding the binary expansion\n",
    "    res=1\n",
    "    while n>0:\n",
    "        if n%2==1: #If the bit is 1 multiply by the corresponding square\n",
    "            res=(res*a)%m\n",
    "        a=(a*a)%m\n",
    "        n=n//2\n",
    "    return res\n",
    "\n",
    "def millerRabinWitnessQ(a,n):\n",
    "    #First we need to check relativity\n",
    "    if fastGCD(a,n)==1:\n",
    "        n0=n-1\n",
    "        i=0 #i is the power of 2\n",
    "        while n0%2==0:\n",
    "            n0=n0//2\n",
    "            i=i+1\n",
    "        #we get n=n0*2^i\n",
    "        if fast2Power(a,n-1,n)!=1:\n",
    "            i0=0\n",
    "            list=[]\n",
    "            while i0 < i:\n",
    "                t=pow(2,i0)\n",
    "                k=fast2Power(a,n0*t,n)\n",
    "                list.append(k)\n",
    "                i0=i0+1\n",
    "                if k==-1:\n",
    "                    return \"False\"\n",
    "                else:\n",
    "                    continue\n",
    "            return \"True\"\n",
    "        else:\n",
    "            return \"False\"\n",
    "    else:\n",
    "        return \"gcd(a,n)!=1\"\n",
    "\n",
    "def probablePrimeQ(p):\n",
    "    index=random.sample(range(2,p-1),20)\n",
    "    i=0\n",
    "    while i < 20:\n",
    "        a=index[i]\n",
    "        answer=millerRabinWitnessQ(a,p)\n",
    "        if answer==\"True\":\n",
    "            return \"composite\"\n",
    "            break\n",
    "        else:\n",
    "            i=i+1\n",
    "            continue\n",
    "    return \"probableprime\"\n",
    "\n",
    "def factorBase(B):\n",
    "    #enumerate the simple conditions\n",
    "    if B==2:\n",
    "        list=[2]\n",
    "    if B==3 or B==4:\n",
    "        list=[2,3]\n",
    "    if B==5 or B==6:\n",
    "        list=[2,3,5]\n",
    "    if B>=7 and B<11:\n",
    "        list=[2,3,5,7]\n",
    "    if B==11 and B==12:\n",
    "        list=[2,3,5,7,11]\n",
    "    if B>=13 and B<17:\n",
    "        list=[2,3,5,7,11,13]\n",
    "    if B==17 and B==18:\n",
    "        list=[2,3,5,7,11,13,17]\n",
    "    if B>=19 and B<23:\n",
    "        list=[2,3,5,7,11,13,17,19]\n",
    "    #Since there are 20 samples in function probablePrimeQ.So I initial i as 23.\n",
    "    if B>=23:\n",
    "        i=23\n",
    "        list=[2,3,5,7,11,13,17,19,23]# These are the primes less than 23\n",
    "        while i<= B:\n",
    "            if probablePrimeQ(i)==\"probableprime\":\n",
    "                list.append(i)\n",
    "            i=i+1\n",
    "    return list"
   ]
  },
  {
   "cell_type": "code",
   "execution_count": 5,
   "metadata": {
    "collapsed": false
   },
   "outputs": [
   ],
   "source": [
    "#Problem 3 b\n",
    "#This function only works when n>24, when n is small.we can get the number of primes directly.\n",
    "def pi(n):\n",
    "    #enumerate the simple conditions\n",
    "    if n==2:\n",
    "        number=1\n",
    "    if n==3 or n==4:\n",
    "        number=2\n",
    "    if n==5 or n==6:\n",
    "        number=3\n",
    "    if n>=7 and n<11:\n",
    "        number=4\n",
    "    if n==11 and n==12:\n",
    "        number=5\n",
    "    if n>=13 and n<17:\n",
    "        number=6\n",
    "    if n==17 and n==18:\n",
    "        number=7\n",
    "    if n>=19 and n<23:\n",
    "        number=8\n",
    "    #Since there are 20 samples in function probablePrimeQ.So I initial i as 23.\n",
    "    if n>=23:\n",
    "        i=23\n",
    "        number=8\n",
    "        while i<= n:\n",
    "            if probablePrimeQ(i)==\"probableprime\":\n",
    "                number=number+1\n",
    "            i=i+1\n",
    "    return number"
   ]
  },
  {
   "cell_type": "code",
   "execution_count": 16,
   "metadata": {
    "collapsed": false
   },
   "outputs": [
    {
     "name": "stdout",
     "output_type": "stream",
     "text": [
      "[4, 25, 169, 1236, 9629, 78750]\n",
      "[4.3429448190325175, 21.71472409516259, 144.76482730108395, 1085.7362047581294, 8685.889638065037, 72382.41365054197]\n",
      "[0.9210340371976184, 1.151292546497023, 1.167410642147981, 1.1383980699762564, 1.1085795930219833, 1.0879714564396865]\n"
     ]
    }
   ],
   "source": [
    "#Problem 3 c\n",
    "#we can get pi(10) derictly as 4\n",
    "list=[pi(10),pi(100),pi(1000),pi(10000),pi(100000),pi(1000000)]\n",
    "list2=[10/math.log(10),100/math.log(100),1000/math.log(1000),10000/math.log(10000),100000/math.log(100000),1000000/math.log(1000000)]\n",
    "#list3 is the \n",
    "list3=[list[0]/list2[0],list[1]/list2[1],list[2]/list2[2],list[3]/list2[3],list[4]/list2[4],list[5]/list2[5]]\n",
    "print(list)\n",
    "print(list2)\n",
    "print(list3)"
   ]
  },
  {
   "cell_type": "code",
   "execution_count": 6,
   "metadata": {
    "collapsed": false
   },
   "outputs": [
   ],
   "source": [
    "#Problem 4 a\n",
    "def psiNaive(X,B):\n",
    "    i=B+1\n",
    "    i_initial=B+1\n",
    "    count=B-1\n",
    "    list=factorBase(B)\n",
    "    while i_initial<=X:\n",
    "        i=i_initial\n",
    "        j=0\n",
    "        while j<len(list):\n",
    "            t=1\n",
    "            #if p^i/k , then all of the powers less than i don't need to be checked\n",
    "            #I just need to find the biggest i, which means p^i/k but p^(i+1)!/k\n",
    "            while i%pow(list[j],t)==0:\n",
    "                t=t+1\n",
    "            i=i//pow(list[j],t-1)\n",
    "            j=j+1\n",
    "        if i==1:\n",
    "            count=count+1\n",
    "        i_initial=i_initial+1\n",
    "    return count\n"
   ]
  },
  {
   "cell_type": "code",
   "execution_count": 7,
   "metadata": {
    "collapsed": false,
    "scrolled": true
   },
   "outputs": [
    {
     "name": "stdout",
     "output_type": "stream",
     "text": [
      "[8, 33, 85, 174]\n",
      "[9, 45, 140, 337]\n"
     ]
    }
   ],
   "source": [
    "#Problem 4 b\n",
    "list_5=[psiNaive(10,5),psiNaive(100,5),psiNaive(1000,5),psiNaive(10000,5)]\n",
    "list_7=[psiNaive(10,7),psiNaive(100,7),psiNaive(1000,7),psiNaive(10000,7)]\n",
    "print(list_5)\n",
    "print(list_7)"
   ]
  },
  {
   "cell_type": "code",
   "execution_count": 13,
   "metadata": {
    "collapsed": false
   },
   "outputs": [
   ],
   "source": [
    "#Problem 4 c\n",
    "def psiSieve(X,B):\n",
    "    i=B+1\n",
    "    i_initial=B+1\n",
    "    count=B-1\n",
    "    list=factorBase(B)\n",
    "#Add a circulation for check when i is an odd number.\n",
    "#If i has prime number larger than B,we don't need to go to next more complex circulation.\n",
    "    while i_initial<=X:\n",
    "        i=i_initial\n",
    "        j=0\n",
    "        if i%2==1:\n",
    "            while j<len(list):\n",
    "                if i%list[j]==0:\n",
    "                    i=i//list[j]\n",
    "                j=j+1\n",
    "            if i==i_initial:\n",
    "                i_initial=i_initial+1\n",
    "                i=i_initial\n",
    "            else:\n",
    "                i=i_initial\n",
    "        j=0\n",
    "        while j<len(list):\n",
    "            t=1\n",
    "            while i%pow(list[j],t)==0:\n",
    "                t=t+1\n",
    "            i=i//pow(list[j],t-1)\n",
    "            j=j+1\n",
    "        if i==1:\n",
    "            count=count+1\n",
    "        i_initial=i_initial+1\n",
    "    return count"
   ]
  },
  {
   "cell_type": "code",
   "execution_count": 14,
   "metadata": {
    "collapsed": false
   },
   "outputs": [
    {
     "name": "stdout",
     "output_type": "stream",
     "text": [
      "[8, 33, 85, 174]\n",
      "[9, 45, 140, 337]\n"
     ]
    },
    {
     "name": "stdout",
     "output_type": "stream",
     "text": [
      "[3418, 8750]\n"
     ]
    },
    {
     "name": "stdout",
     "output_type": "stream",
     "text": [
      "[17441, 72270]\n"
     ]
    }
   ],
   "source": [
    "#Problem 4 d\n",
    "list_5=[psiSieve(10,5),psiSieve(100,5),psiSieve(1000,5),psiSieve(10000,5)]\n",
    "list_7=[psiSieve(10,7),psiSieve(100,7),psiSieve(1000,7),psiSieve(10000,7)]\n",
    "print(list_5)\n",
    "print(list_7)\n",
    "\n",
    "list=[psiSieve(100000,19),psiSieve(1000000,19)]\n",
    "print(list)\n",
    "list2=[psiSieve(100000,100),psiSieve(1000000,100)]\n",
    "print(list2)\n"
   ]
  },
  {
   "cell_type": "code",
   "execution_count": 1,
   "metadata": {
    "collapsed": false
   },
   "outputs": [
    {
     "name": "stdout",
     "output_type": "stream",
     "text": [
      "[412.81953493849477, 14419.086628335623, 3.256228585198576e+19, 1.5333152254096063e+29]\n"
     ]
    }
   ],
   "source": [
    "#Problem 5\n",
    "import math\n",
    "def L(x):\n",
    "    c=pow(math.e,(math.sqrt(math.log(x)*math.log(math.log(x)))))\n",
    "    return c\n",
    "list=[L(pow(10,6)),L(pow(10,12)),L(pow(10,150)),L(pow(10,300))]\n",
    "print(list)\n"
   ]
  },
  {
   "cell_type": "code",
   "execution_count": 0,
   "metadata": {
    "collapsed": false
   },
   "outputs": [
   ],
   "source": [
   ]
  },
  {
   "cell_type": "code",
   "execution_count": 0,
   "metadata": {
    "collapsed": false
   },
   "outputs": [
   ],
   "source": [
   ]
  },
  {
   "cell_type": "code",
   "execution_count": 0,
   "metadata": {
    "collapsed": false
   },
   "outputs": [
   ],
   "source": [
   ]
  }
 ],
 "metadata": {
  "kernelspec": {
   "display_name": "Python 3 (SageMath)",
   "language": "python",
   "metadata": {
    "cocalc": {
     "description": "The Python 3 interpreter included in SageMath",
     "priority": 1,
     "url": "https://www.python.org/"
    }
   },
   "name": "python3-sage",
   "resource_dir": "/ext/jupyter/kernels/python3-sage"
  },
  "language_info": {
   "codemirror_mode": {
    "name": "ipython",
    "version": 3
   },
   "file_extension": ".py",
   "mimetype": "text/x-python",
   "name": "python",
   "nbconvert_exporter": "python",
   "pygments_lexer": "ipython3",
   "version": "3.10.3"
  }
 },
 "nbformat": 4,
 "nbformat_minor": 4
}