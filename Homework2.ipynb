{
 "cells": [
  {
   "cell_type": "code",
   "execution_count": 15,
   "metadata": {
    "collapsed": false
   },
   "outputs": [
    {
     "data": {
      "text/plain": [
       "[1, 0, 0, 1, 0, 1, 0]"
      ]
     },
     "execution_count": 15,
     "metadata": {},
     "output_type": "execute_result"
    }
   ],
   "source": [
    "def getBinaryExpansion(b):\n",
    "    list=[]\n",
    "    while b!=0:\n",
    "        b0=b%2\n",
    "        b=int((b-b0)/2)\n",
    "        list.append(b0)\n",
    "    list=list[::-1]         #inverse the list to make the correct sort of expansion\n",
    "    return list #make the output in one row\n",
    "getBinaryExpansion(74)        #use a number to try"
   ]
  },
  {
   "cell_type": "code",
   "execution_count": 24,
   "metadata": {
    "collapsed": false
   },
   "outputs": [],
   "source": [
    "def getExpansion(n,m):\n",
    "    listOfDigits=[]\n",
    "    while n>=m:\n",
    "        digit=n%m #compute the next digit\n",
    "        listOfDigits.append(digit)\n",
    "        n=(n-digit)//m\n",
    "    listOfDigits.append(n) #the last digit\n",
    "    return listOfDigits"
   ]
  },
  {
   "cell_type": "code",
   "execution_count": 16,
   "metadata": {
    "collapsed": false
   },
   "outputs": [
    {
     "data": {
      "text/plain": [
       "9"
      ]
     },
     "execution_count": 16,
     "metadata": {},
     "output_type": "execute_result"
    }
   ],
   "source": [
    "def fast2Power(a,n,m): #Compute the power of a^n modulo m,without first finding␣the binary expansion\n",
    "    res=1\n",
    "    while n>0:\n",
    "        if n%2==1: #If the bit is 1 multiply by the corresponding square\n",
    "            res=(res*a)%m\n",
    "        a=(a^2)%m #update a\n",
    "        n=n//2 #update n (the quotient after division by 2)\n",
    "    return res\n",
    "\n",
    "fast2Power(13,41,27)"
   ]
  },
  {
   "cell_type": "code",
   "execution_count": 30,
   "metadata": {
    "collapsed": false
   },
   "outputs": [
    {
     "name": "stdout",
     "output_type": "stream",
     "text": [
      "H\n",
      "e\n",
      "l\n",
      "l\n",
      "o\n",
      "!\n",
      "Hello!\n",
      "A\n",
      "&\n"
     ]
    }
   ],
   "source": [
    "#problem 4 a\n",
    "s='Hello!'\n",
    "for i in s:\n",
    "    print(i)\n",
    "# We can also add a character to a string\n",
    "s='Hello'\n",
    "s=s+'!'\n",
    "print(s)\n",
    "print(chr(65))\n",
    "print(chr(38))"
   ]
  },
  {
   "cell_type": "code",
   "execution_count": 26,
   "metadata": {
    "collapsed": false
   },
   "outputs": [
    {
     "data": {
      "text/plain": [
       "478560413000"
      ]
     },
     "execution_count": 26,
     "metadata": {},
     "output_type": "execute_result"
    }
   ],
   "source": [
    "#problem 4 b\n",
    "def textToInt(s):\n",
    "    n=0\n",
    "    k=0\n",
    "    for i in s: #Loop through the charcters of the string \n",
    "        n=n+ord(i)*(256**k)\n",
    "        k=k+1\n",
    "    return n\n",
    "textToInt(\"Hello\")"
   ]
  },
  {
   "cell_type": "code",
   "execution_count": 29,
   "metadata": {
    "collapsed": false
   },
   "outputs": [
    {
     "name": "stdout",
     "output_type": "stream",
     "text": [
      "Hello\n"
     ]
    }
   ],
   "source": [
    "#problem 4 c\n",
    "def intToText(n):\n",
    "    t=getExpansion(n,256)\n",
    "    myString=''\n",
    "    for i in t:\n",
    "        myString=myString+chr(i)\n",
    "    return myString\n",
    "print(intToText(478560413000))\n"
   ]
  },
  {
   "cell_type": "code",
   "execution_count": 21,
   "metadata": {
    "collapsed": false,
    "scrolled": true
   },
   "outputs": [
    {
     "data": {
      "text/plain": [
       "[33, 103, 110, 111, 114, 119, 32, 0, 0, 0, 0, 0, 0, 84]"
      ]
     },
     "execution_count": 21,
     "metadata": {},
     "output_type": "execute_result"
    }
   ],
   "source": [
    "\n",
    "#problem 5 a\n",
    "\n",
    "#This is the function from Homework1\n",
    "def multInverse(a,p):\n",
    "    # use p0 to save the ordinary prime\n",
    "    p0=p\n",
    "    b=a%p\n",
    "    list3=[]\n",
    "    s0=1\n",
    "    s1=0\n",
    "    t0=0\n",
    "    t1=1\n",
    "    while p%b!=0:\n",
    "        r1=p%b\n",
    "        q=p//b\n",
    "        s2=s0-(q*s1)\n",
    "        s0=s1\n",
    "        s1=s2\n",
    "        t2=t0-(q*t1)\n",
    "        t0=t1\n",
    "        t1=t2\n",
    "        p=b\n",
    "        b=r1\n",
    "        list3=[b,s1,t1]\n",
    "    # the value of a*t1 modulo p is -1, so we need to add ordinary p0\n",
    "    return (p0+t1)%p0\n",
    "\n",
    "def affineEncrypt(P,a,b,m):\n",
    "    C=(a*P+b)%m\n",
    "    return C\n",
    "\n",
    "def affineDecrypt(C,a,b,m):\n",
    "    P=(multInverse(a,m)*(C-b))%m\n",
    "    return P\n",
    "    \n",
    "\n",
    "\n",
    "#problem 5 c\n",
    "OrdP2='AliceBobCathyDorothy'\n",
    "textToInt(OrdP2)\n",
    "# We get P2=1467233016300828027686836537942621384438896984320\n",
    "P2=1467233016300828027686836537942621384438896984320\n",
    "m=340282366920938463463374607431768211507\n",
    "a=2\n",
    "b=3\n",
    "affineDecrypt(P2,a,b,m)\n",
    "#It doesn't recover my message\n",
    "\n",
    "#problem 5 d\n",
    "\n",
    "\n",
    "ciphertext=306223679614151152019567562383624433868\n",
    "m=340282366920938463463374607431768211507\n",
    "a = 21712651827515182\n",
    "b = 274812741241924192499\n",
    "inverse_a=451632048965125777158828526860733409152\n",
    "P=((ciphertext-b)*inverse_a)%m\n",
    "# We get P, P is 677514195741867955863923060205652\n",
    "getExpansion(256,677514195741867955863923060205652)\n",
    "# The answer is in the draft part of this file\n",
    "# The plaintext is \"T\\x00\\x00\\x00\\x00\\x00\\x00 wrong!\"\n"
   ]
  },
  {
   "cell_type": "code",
   "execution_count": 2,
   "metadata": {
    "collapsed": false
   },
   "outputs": [
    {
     "name": "stdout",
     "output_type": "stream",
     "text": [
      "1642061\n",
      "1110059\n",
      "2329035\n",
      "2329035\n"
     ]
    }
   ],
   "source": [
    "#problem 6 a\n",
    "p = 2712691\n",
    "g = 2\n",
    "a = 2553\n",
    "b = 26511\n",
    "Alice=fastPower(g,a,p) #It is the value Alice gets 1642061\n",
    "Bob=fastPower(g,b,p)  #It is the value Bob gets 1110059\n",
    "plaintext=fastPower(1642061,b,p)\n",
    "plaintext2=fastPower(1110059,a,p) #The value are the same 2329035"
   ]
  },
  {
   "cell_type": "code",
   "execution_count": 9,
   "metadata": {
    "collapsed": false
   },
   "outputs": [
    {
     "name": "stdout",
     "output_type": "stream",
     "text": [
      "143887684366034719669782830509192404201\n",
      "122521616900379754708277529961879993561\n",
      "308100776785114845780020435783512040141\n",
      "308100776785114845780020435783512040141\n"
     ]
    }
   ],
   "source": [
    "#problem 6 b\n",
    "p = 340282366920938463463374607431768211507\n",
    "g = 121770841829326452690259895862715513623\n",
    "a = 21712651827515182\n",
    "b = 274812741241924192499\n",
    "Alice=fastPower(g,a,p) #It is the value Alice gets 143887684366034719669782830509192404201\n",
    "Bob=fastPower(g,b,p)  #It is the value Bob gets 122521616900379754708277529961879993561\n",
    "plaintext=fastPower(143887684366034719669782830509192404201,b,p)\n",
    "plaintext2=fastPower(122521616900379754708277529961879993561,a,p) #The value are the same 308100776785114845780020435783512040141"
   ]
  },
  {
   "cell_type": "code",
   "execution_count": 24,
   "metadata": {
    "collapsed": false
   },
   "outputs": [
    {
     "name": "stdout",
     "output_type": "stream",
     "text": [
      "33\n",
      "103\n",
      "110\n",
      "111\n",
      "114\n",
      "119\n",
      "32\n",
      "0\n",
      "0\n",
      "0\n",
      "0\n",
      "0\n",
      "0\n",
      "84\n",
      "\u0000\n",
      "\u0001\n",
      "\u0002\n",
      "\u0003\n",
      "\u0004\n",
      "\u0005\n",
      "\u0006\n",
      "\u0007\n",
      "\b\n",
      "\t\n",
      "\n",
      "\n",
      "\u000b\n",
      "\f\n",
      "\r\n"
     ]
    }
   ],
   "source": [
    "# It is the draft of the program\n",
    "ciphertext=306223679614151152019567562383624433868\n",
    "m=340282366920938463463374607431768211507\n",
    "a = 21712651827515182\n",
    "b = 274812741241924192499\n",
    "inverse_a=451632048965125777158828526860733409152\n",
    "P=((ciphertext-b)*inverse_a)%m\n",
    "getExpansion(256,677514195741867955863923060205652)\n",
    "list=[33,103,110,111,114,119,32,0,0,0,0,0,0,84]\n",
    "listinv=list[::-1]\n",
    "for x in range(len(listinv)):\n",
    "    print(chr(x))"
   ]
  },
  {
   "cell_type": "code",
   "execution_count": null,
   "metadata": {
    "collapsed": false
   },
   "outputs": [],
   "source": []
  }
 ],
 "metadata": {
  "kernelspec": {
   "display_name": "Python 3.10.7 64-bit",
   "language": "python",
   "name": "python3"
  },
  "language_info": {
   "codemirror_mode": {
    "name": "ipython",
    "version": 3
   },
   "file_extension": ".py",
   "mimetype": "text/x-python",
   "name": "python",
   "nbconvert_exporter": "python",
   "pygments_lexer": "ipython3",
   "version": "3.10.7"
  },
  "vscode": {
   "interpreter": {
    "hash": "007628312d67d24880af9bfc116003e539caef55c9f9b42c05e461e1b0de4ffe"
   }
  }
 },
 "nbformat": 4,
 "nbformat_minor": 4
}
