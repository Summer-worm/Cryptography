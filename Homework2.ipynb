{
 "cells": [
  {
   "cell_type": "code",
   "execution_count": 10,
   "metadata": {
    "collapsed": false
   },
   "outputs": [
    {
     "name": "stdout",
     "output_type": "stream",
     "text": [
      "1001010"
     ]
    }
   ],
   "source": [
    "def getBinaryExpansion(b):\n",
    "    list=[]\n",
    "    while b!=0:\n",
    "        b0=b%2\n",
    "        b=int((b-b0)/2)\n",
    "        list.append(b0)\n",
    "    list=list[::-1]         #inverse the list to make the correct sort of expansion\n",
    "    for x in range(len(list)):\n",
    "        print(list[x],end=\"\") #make the output in one row\n",
    "getBinaryExpansion(74)        #use a number to try"
   ]
  },
  {
   "cell_type": "code",
   "execution_count": 4,
   "metadata": {
    "collapsed": false
   },
   "outputs": [
    {
     "name": "stdout",
     "output_type": "stream",
     "text": [
      "1\n",
      "1\n",
      "1\n",
      "1\n",
      "1\n",
      "0\n"
     ]
    }
   ],
   "source": [
    "def getExpansion(n,m):\n",
    "    list2=[]\n",
    "    while m!=0:\n",
    "        m0=m%n\n",
    "        m=int((m-m0)/n)\n",
    "        list2.append(m0)\n",
    "    list2=list2[::-1]\n",
    "    for x in range(len(list2)):\n",
    "        print(list2[x])\n",
    "getExpansion(256,1103823438080)"
   ]
  },
  {
   "cell_type": "code",
   "execution_count": 1,
   "metadata": {
    "collapsed": false
   },
   "outputs": [
    {
     "name": "stdout",
     "output_type": "stream",
     "text": [
      "1\n"
     ]
    }
   ],
   "source": [
    "def fastPower(a,n,m):\n",
    "    amutiplier=1\n",
    "    list=[]\n",
    "    while n!=0:       #that is the part from getBinaryExpansion(b), it is easier to solve the problem, so I use a part of it.\n",
    "        n0=n%2\n",
    "        n=int((n-n0)/2)\n",
    "        list.append(n0)\n",
    "    for x in list:\n",
    "        if x==0:\n",
    "            amodulo=a%m\n",
    "            a=(amodulo*amodulo)%m\n",
    "        else:\n",
    "            amodulo=a%m\n",
    "            a=(amodulo*amodulo)%m\n",
    "            amutiplier=(amutiplier*amodulo)%m\n",
    "    print(amutiplier)\n",
    "fastPower(4,4,5)"
   ]
  },
  {
   "cell_type": "code",
   "execution_count": 28,
   "metadata": {
    "collapsed": false
   },
   "outputs": [
    {
     "name": "stdout",
     "output_type": "stream",
     "text": [
      "H\n",
      "e\n",
      "l\n",
      "l\n",
      "o\n",
      "!\n",
      "Hello!\n",
      "A\n",
      "&\n"
     ]
    }
   ],
   "source": [
    "#problem 4 a\n",
    "s='Hello!'\n",
    "for i in s:\n",
    "    print(i)\n",
    "# We can also add a character to a string\n",
    "s='Hello'\n",
    "s=s+'!'\n",
    "print(s)\n",
    "print(chr(65))\n",
    "print(chr(38))"
   ]
  },
  {
   "cell_type": "code",
   "execution_count": 6,
   "metadata": {
    "collapsed": false
   },
   "outputs": [
    {
     "name": "stdout",
     "output_type": "stream",
     "text": [
      "1103823438080\n"
     ]
    }
   ],
   "source": [
    "#problem 4 b\n",
    "def textToInt(s):\n",
    "    sum=0\n",
    "    power=1\n",
    "    for x in s:\n",
    "        k=ord(x)*power\n",
    "        power=power*256\n",
    "        sum=sum+power\n",
    "    print(sum)\n",
    "textToInt('Hello')"
   ]
  },
  {
   "cell_type": "code",
   "execution_count": 4,
   "metadata": {
    "collapsed": false
   },
   "outputs": [
    {
     "name": "stdout",
     "output_type": "stream",
     "text": [
      "\u0001\u0001\u0001\u0001\u0001\u0000\n"
     ]
    }
   ],
   "source": [
    "#problem 4 c\n",
    "def intToText(n):\n",
    "    string=''\n",
    "    list3=[]\n",
    "    while n!=0:        #Instead of using fastPower, I just use a part of the function, because it is easier than using the whole function\n",
    "        n0=n%256\n",
    "        n=int((n-n0)/256)\n",
    "        list3.append(n0)\n",
    "    list3=list3[::-1]\n",
    "    for x in list3:\n",
    "        string=string+chr(x)\n",
    "    print(string)\n",
    "intToText(1103823438080)"
   ]
  },
  {
   "cell_type": "code",
   "execution_count": 25,
   "metadata": {
    "collapsed": false,
    "scrolled": true
   },
   "outputs": [
    {
     "ename": "KeyboardInterrupt",
     "evalue": "",
     "output_type": "error",
     "traceback": [
      "\u001b[0;31m---------------------------------------------------------------------------\u001b[0m",
      "\u001b[0;31mKeyboardInterrupt\u001b[0m                         Traceback (most recent call last)",
      "\u001b[0;32m/tmp/ipykernel_531/3304206890.py\u001b[0m in \u001b[0;36m<cell line: 24>\u001b[0;34m()\u001b[0m\n\u001b[1;32m     22\u001b[0m \u001b[0ma\u001b[0m\u001b[0;34m=\u001b[0m\u001b[0;36m2\u001b[0m\u001b[0;34m\u001b[0m\u001b[0;34m\u001b[0m\u001b[0m\n\u001b[1;32m     23\u001b[0m \u001b[0mb\u001b[0m\u001b[0;34m=\u001b[0m\u001b[0;36m3\u001b[0m\u001b[0;34m\u001b[0m\u001b[0;34m\u001b[0m\u001b[0m\n\u001b[0;32m---> 24\u001b[0;31m \u001b[0maffineDecrypt\u001b[0m\u001b[0;34m(\u001b[0m\u001b[0mP\u001b[0m\u001b[0;34m,\u001b[0m\u001b[0ma\u001b[0m\u001b[0;34m,\u001b[0m\u001b[0mb\u001b[0m\u001b[0;34m,\u001b[0m\u001b[0mm\u001b[0m\u001b[0;34m)\u001b[0m\u001b[0;34m\u001b[0m\u001b[0;34m\u001b[0m\u001b[0m\n\u001b[0m\u001b[1;32m     25\u001b[0m \u001b[0;34m\u001b[0m\u001b[0m\n\u001b[1;32m     26\u001b[0m \u001b[0;34m\u001b[0m\u001b[0m\n",
      "\u001b[0;32m/tmp/ipykernel_531/3304206890.py\u001b[0m in \u001b[0;36maffineDecrypt\u001b[0;34m(P, a, b, m)\u001b[0m\n\u001b[1;32m     13\u001b[0m     \u001b[0;32mwhile\u001b[0m \u001b[0mep\u001b[0m\u001b[0;34m!=\u001b[0m\u001b[0;36m0\u001b[0m\u001b[0;34m:\u001b[0m        \u001b[0;31m#Instead of using intTotext, I just use a part of the function, because it is easier than using the whole function\u001b[0m\u001b[0;34m\u001b[0m\u001b[0;34m\u001b[0m\u001b[0m\n\u001b[1;32m     14\u001b[0m         \u001b[0mep0\u001b[0m\u001b[0;34m=\u001b[0m\u001b[0mep\u001b[0m\u001b[0;34m%\u001b[0m\u001b[0;36m256\u001b[0m\u001b[0;34m\u001b[0m\u001b[0;34m\u001b[0m\u001b[0m\n\u001b[0;32m---> 15\u001b[0;31m         \u001b[0mn\u001b[0m\u001b[0;34m=\u001b[0m\u001b[0mint\u001b[0m\u001b[0;34m(\u001b[0m\u001b[0;34m(\u001b[0m\u001b[0mep\u001b[0m\u001b[0;34m-\u001b[0m\u001b[0mep0\u001b[0m\u001b[0;34m)\u001b[0m\u001b[0;34m/\u001b[0m\u001b[0;36m256\u001b[0m\u001b[0;34m)\u001b[0m\u001b[0;34m\u001b[0m\u001b[0;34m\u001b[0m\u001b[0m\n\u001b[0m\u001b[1;32m     16\u001b[0m         \u001b[0mlistep\u001b[0m\u001b[0;34m.\u001b[0m\u001b[0mappend\u001b[0m\u001b[0;34m(\u001b[0m\u001b[0mep0\u001b[0m\u001b[0;34m)\u001b[0m\u001b[0;34m\u001b[0m\u001b[0;34m\u001b[0m\u001b[0m\n\u001b[1;32m     17\u001b[0m     \u001b[0;32mfor\u001b[0m \u001b[0mx\u001b[0m \u001b[0;32min\u001b[0m \u001b[0mlistep\u001b[0m\u001b[0;34m:\u001b[0m\u001b[0;34m\u001b[0m\u001b[0;34m\u001b[0m\u001b[0m\n",
      "\u001b[0;31mKeyboardInterrupt\u001b[0m: "
     ]
    }
   ],
   "source": [
    "\n",
    "#problem 5 a\n",
    "def affineEncrypt(P,a,b,m):\n",
    "    P='Bob'\n",
    "    textToInt(P)\n",
    "    # We get P as 16843008\n",
    "\n",
    "#problem 5 b\n",
    "def affineDecrypt(P,a,b,m):\n",
    "    string=''\n",
    "    #choose a=2, b=3\n",
    "    ep=(a*P+b)%m\n",
    "    listep=[]\n",
    "    while ep!=0:        #Instead of using intTotext, I just use a part of the function, because it is easier than using the whole function\n",
    "        ep0=ep%256\n",
    "        n=int((ep-ep0)/256)\n",
    "        listep.append(ep0)\n",
    "    for x in listep:\n",
    "        string=string+chr(x)\n",
    "    print(string)\n",
    "P=16843008\n",
    "m=340282366920938463463374607431768211507\n",
    "a=2\n",
    "b=3\n",
    "affineDecrypt(P,a,b,m)\n",
    "\n",
    "\n",
    "#problem 5 c\n",
    "OrdP2='AliceBobCathyDorothy'\n",
    "textToInt(OrdP2)\n",
    "# We get P2=1467233016300828027686836537942621384438896984320\n",
    "P2=1467233016300828027686836537942621384438896984320\n",
    "m=340282366920938463463374607431768211507\n",
    "a=2\n",
    "b=3\n",
    "affineDecrypt(P2,a,b,m)\n",
    "#It doesn't recover my message\n",
    "\n",
    "#problem 5 d\n",
    "#This is the function from Homework1\n",
    "def multInverse(a,p):\n",
    "    # use p0 to save the ordinary prime\n",
    "    p0=p\n",
    "    b=a%p\n",
    "    list3=[]\n",
    "    s0=1\n",
    "    s1=0\n",
    "    t0=0\n",
    "    t1=1\n",
    "    while p%b!=0:\n",
    "        r1=p%b\n",
    "        q=p//b\n",
    "        s2=s0-(q*s1)\n",
    "        s0=s1\n",
    "        s1=s2\n",
    "        t2=t0-(q*t1)\n",
    "        t0=t1\n",
    "        t1=t2\n",
    "        p=b\n",
    "        b=r1\n",
    "        list3=[b,s1,t1]\n",
    "    # the value of a*t1 modulo p is -1, so we need to add ordinary p0\n",
    "    print(p0+t1)\n",
    "# We get the inverse(a) of m is 451632048965125777158828526860733409152\n",
    "ciphertext=306223679614151152019567562383624433868\n",
    "m=340282366920938463463374607431768211507\n",
    "a = 21712651827515182\n",
    "b = 274812741241924192499\n",
    "inverse_a=451632048965125777158828526860733409152\n",
    "P=((ciphertext-b)*inverse_a)%m\n",
    "# We get P, P is 677514195741867955863923060205652\n",
    "getExpansion(256,677514195741867955863923060205652)\n",
    "# The answer is in the draft part of this file\n",
    "# The plaintext is \"T\\x00\\x00\\x00\\x00\\x00\\x00 wrong!\"\n"
   ]
  },
  {
   "cell_type": "code",
   "execution_count": 2,
   "metadata": {
    "collapsed": false
   },
   "outputs": [
    {
     "name": "stdout",
     "output_type": "stream",
     "text": [
      "1642061\n",
      "1110059\n",
      "2329035\n",
      "2329035\n"
     ]
    }
   ],
   "source": [
    "#problem 6 a\n",
    "p = 2712691\n",
    "g = 2\n",
    "a = 2553\n",
    "b = 26511\n",
    "Alice=fastPower(g,a,p) #It is the value Alice gets 1642061\n",
    "Bob=fastPower(g,b,p)  #It is the value Bob gets 1110059\n",
    "plaintext=fastPower(1642061,b,p)\n",
    "plaintext2=fastPower(1110059,a,p) #The value are the same 2329035"
   ]
  },
  {
   "cell_type": "code",
   "execution_count": 9,
   "metadata": {
    "collapsed": false
   },
   "outputs": [
    {
     "name": "stdout",
     "output_type": "stream",
     "text": [
      "143887684366034719669782830509192404201\n",
      "122521616900379754708277529961879993561\n",
      "308100776785114845780020435783512040141\n",
      "308100776785114845780020435783512040141\n"
     ]
    }
   ],
   "source": [
    "#problem 6 b\n",
    "p = 340282366920938463463374607431768211507\n",
    "g = 121770841829326452690259895862715513623\n",
    "a = 21712651827515182\n",
    "b = 274812741241924192499\n",
    "Alice=fastPower(g,a,p) #It is the value Alice gets 143887684366034719669782830509192404201\n",
    "Bob=fastPower(g,b,p)  #It is the value Bob gets 122521616900379754708277529961879993561\n",
    "plaintext=fastPower(143887684366034719669782830509192404201,b,p)\n",
    "plaintext2=fastPower(122521616900379754708277529961879993561,a,p) #The value are the same 308100776785114845780020435783512040141"
   ]
  },
  {
   "cell_type": "code",
   "execution_count": 24,
   "metadata": {
    "collapsed": false
   },
   "outputs": [
    {
     "name": "stdout",
     "output_type": "stream",
     "text": [
      "33\n",
      "103\n",
      "110\n",
      "111\n",
      "114\n",
      "119\n",
      "32\n",
      "0\n",
      "0\n",
      "0\n",
      "0\n",
      "0\n",
      "0\n",
      "84\n",
      "\u0000\n",
      "\u0001\n",
      "\u0002\n",
      "\u0003\n",
      "\u0004\n",
      "\u0005\n",
      "\u0006\n",
      "\u0007\n",
      "\b\n",
      "\t\n",
      "\n",
      "\n",
      "\u000b\n",
      "\f\n",
      "\r\n"
     ]
    }
   ],
   "source": [
    "# It is the draft of the program\n",
    "ciphertext=306223679614151152019567562383624433868\n",
    "m=340282366920938463463374607431768211507\n",
    "a = 21712651827515182\n",
    "b = 274812741241924192499\n",
    "inverse_a=451632048965125777158828526860733409152\n",
    "P=((ciphertext-b)*inverse_a)%m\n",
    "getExpansion(256,677514195741867955863923060205652)\n",
    "list=[33,103,110,111,114,119,32,0,0,0,0,0,0,84]\n",
    "listinv=list[::-1]\n",
    "for x in range(len(listinv)):\n",
    "    print(chr(x))"
   ]
  },
  {
   "cell_type": "code",
   "execution_count": 0,
   "metadata": {
    "collapsed": false
   },
   "outputs": [
   ],
   "source": [
   ]
  }
 ],
 "metadata": {
  "kernelspec": {
   "display_name": "Python 3 (system-wide)",
   "language": "python",
   "metadata": {
    "cocalc": {
     "description": "Python 3 programming language",
     "priority": 100,
     "url": "https://www.python.org/"
    }
   },
   "name": "python3",
   "resource_dir": "/ext/jupyter/kernels/python3"
  },
  "language_info": {
   "codemirror_mode": {
    "name": "ipython",
    "version": 3
   },
   "file_extension": ".py",
   "mimetype": "text/x-python",
   "name": "python",
   "nbconvert_exporter": "python",
   "pygments_lexer": "ipython3",
   "version": "3.8.10"
  }
 },
 "nbformat": 4,
 "nbformat_minor": 4
}